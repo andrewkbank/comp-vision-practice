{
 "cells": [
  {
   "cell_type": "markdown",
   "metadata": {},
   "source": [
    "1.\n",
    "\n",
    "Consider the following set of relevance vectors for $Q=4$ image retrieval queries:\n",
    "$$r_1=(1,0,1,1,1)$$\n",
    "$$r_2=(0,0,1,1,0)$$\n",
    "$$r_3=(1,1,1,0,1)$$\n",
    "$$r_4=(0,0,0,1,1)$$\n",
    "Compute the mean reciprocal rank and the MAP@5 values. You do not need to generate a final number (the work you'd need a calculator for); just show the final formula."
   ]
  },
  {
   "cell_type": "markdown",
   "metadata": {},
   "source": [
    "Note that each query is a class (ie: $r_1$ is trees, $r_2$ is dogs, etc) and each item is 1 if it is the queried image is the correct class and 0 if it is the incorrect class.\n",
    "\n",
    "Mean Reciprocal Rank:\n",
    "$$MRR=\\frac{1}{Q}\\sum_{q=1}^Q\\frac{1}{i_q}$$\n",
    "for $Q$ queries and $i_q$ being the first index that has $r_i=1$\n",
    "\n",
    "As a result, we have\n",
    "$$MRR=\\frac{1}{4}\\left(\\frac{1}{1}+\\frac{1}{3}+\\frac{1}{1}+\\frac{1}{4}\\right)$$\n",
    "\n",
    "Mean Average Precision @ 5:\n",
    "\n",
    "MAP is really stupid. It takes like 10 steps when you could get exact precision values for each query with less steps.\n",
    "$$\\textnormal{Precision}@m=\\frac{1}{m}\\sum_{j=1}^mr_j$$\n",
    "$$AP@K=\\frac{1}{K}\\sum_{i=1}^Kr_i\\textnormal{Precision}@i$$\n",
    "$$MAP@K=\\frac{1}{Q}\\sum_{q=1}^QAP@K$$\n",
    "Put it all together:\n",
    "$$MAP@5=\\frac{1}{4}\\sum_{q=1}^4\\frac{1}{5}\\sum_{i=1}^5r_i\\frac{1}{i}\\sum_{j=1}^ir_j$$\n"
   ]
  },
  {
   "cell_type": "markdown",
   "metadata": {},
   "source": [
    "2.\n",
    "\n",
    "Four challenges of detections are the wide range of sizes of objects in the images, close overlap between objects, a wide range of appearance variation between objects of the same type, and small appearance varations between objects of different types. For each of these, why is it a problem, and how might it be addressed?"
   ]
  },
  {
   "cell_type": "markdown",
   "metadata": {},
   "source": [
    "Challenge 1: wide range of sizes of objects in the images. This can easily be achieved by resizing the input images (with no change to the classifier).\n",
    "\n",
    "Challenge 2: close overlap between objects. This occurs when non-maximum suppression falsely merges/suppresses multiple true bounding boxes of overlapping objects. Because the sliding window process generates so many bounding boxes, the refining process is likely to produce multiple bounding boxes for the same object, which requires non-maximum suppression to solve. However, if multiple objects are overlapping, their bounding boxes will look like multiple bounding boxes for the same object. A partial solution involves only suppressing if the objects are of the same class. Another solution involves not fully suppressing boxes: instead assign a confidence score to each box that is decreased on every intersection with another box. However, this method may increase false positives.\n",
    "\n",
    "Challenge 3: wide range of appearance variations between objects of the same type. The easy solution is subdividing the type (ie: on type \"cars\", subdivide into \"red cars\", \"grey cars\"...). Alternatively, a larger dataset with ample examples of each differing variation of the object will allow the model ample data to train on such a complex class.\n",
    "\n",
    "Challenge 4: Small appearance variations between objects of different types. I would make the model have attention mechanics to focus on the discriminative features. This would require more data, since we need ample examples of such a subtle discriminating feature."
   ]
  },
  {
   "cell_type": "markdown",
   "metadata": {},
   "source": [
    "3.\n",
    "\n",
    "Calculate the IOU between two bounding rectangles\n",
    "$$(x_1,y_1,w_1,h_1)=(50,30,20,40)$$\n",
    "$$(x_2,y_2,w_2,h_2)=(40,30,40,40)$$\n",
    "where $x_i,y_i$ is the pixel center of the rectangle. Hint: you might find the upper left and lower right corners of each rectangle first."
   ]
  },
  {
   "cell_type": "markdown",
   "metadata": {},
   "source": [
    "(assuming up is in the positive $y$ direction and right is in the positive $x$ direction)\n",
    "\n",
    "Upper left of rectangle 1: $(50-\\frac{20}{2},30+\\frac{40}{2})=(40,50)$\n",
    "\n",
    "Lower right of rectangle 1: $(50+\\frac{20}{2},30-\\frac{40}{2})=(60,10)$\n",
    "\n",
    "Upper left of rectangle 2: $(40-\\frac{40}{2},30+\\frac{40}{2})=(20,50)$\n",
    "\n",
    "Lower right of rectangle 2: $(40+\\frac{40}{2},30-\\frac{40}{2})=(60,10)$\n",
    "\n",
    "IOU is intersection over union:\n",
    "$$IOU(R_1,R_2)=\\frac{\\textnormal{Area}(R_1\\cap R_2)}{\\textnormal{Area}(R_1\\cup R_2)}$$\n",
    "Conveniently, the two rectangles have the same lower right corner, and they have the same y-coordinate of their upper left corner.\n",
    "This means their intersection is the area of rectangle 1 (the smaller rectangle) and their union is the area of rectangle 2 (the larger rectangle). Note that this is only true in this special case (the next formula doesn't always apply).\n",
    "$$IOU(R_1,R_2)=\\frac{\\textnormal{Area}(R_1)}{\\textnormal{Area}(R_2)}$$\n",
    "$$IOU(R_1,R_2)=\\frac{800}{1600}=0.5$$"
   ]
  },
  {
   "cell_type": "markdown",
   "metadata": {},
   "source": [
    "4.\n",
    "\n",
    "You are given a list, $v$, of precision/recall value pairs, i.e. for each $i$, $v[i][0]$ is a precision value and $[i][1]$ is the associated recall value. Write a section of code that computes the approximate area under the monotomic (i.e. \"wiggles\" eliminated) precision-recall curve, by evaluating the curve at 101 recall values: 0, 0.01, 0.02, ..., 0.99, 1.00."
   ]
  },
  {
   "cell_type": "code",
   "execution_count": null,
   "metadata": {},
   "outputs": [
    {
     "name": "stdout",
     "output_type": "stream",
     "text": [
      "0.8697492449371677\n"
     ]
    }
   ],
   "source": [
    "import numpy as np\n",
    "import random\n",
    "\n",
    "# Script from chatgpt that randomly generates v\n",
    "def generate_precision_recall_pairs(n=20):\n",
    "    \"\"\"Generates a list of n precision-recall pairs.\"\"\"\n",
    "    recall_values = sorted(random.random() for _ in range(n))  # Ensure recall is increasing\n",
    "    precision_values = [random.random() for _ in range(n)]\n",
    "    \n",
    "    return list(zip(precision_values, recall_values))\n",
    "\n",
    "# Generate a sample list\n",
    "v = generate_precision_recall_pairs()\n",
    "\n",
    "# Now that we have v, we can start the problem\n",
    "# Sort by recall from lowest to highest\n",
    "v.sort(key=lambda x: x[1])\n",
    "\n",
    "# Note that the Precision-Recall curve might not be monotonic\n",
    "# We solve this in the following way\n",
    "# At each discrete sample of recall replace precision with the max precision at this and all greater recall values\n",
    "\n",
    "# Create an array of recall values from 1.00 to 0.00 (inclusive)\n",
    "recall_samples = np.arange(1.00, -0.01, -0.01)  # Decreasing from 1.00 to 0.00\n",
    "\n",
    "# Compute the max precision for each recall level\n",
    "max_precision = 0\n",
    "total_area = 0\n",
    "\n",
    "for recall_level in recall_samples:\n",
    "    # Find all precision values where recall is at least recall_level\n",
    "    # Not sure if there's a way to do this without for loops\n",
    "    relevant_precisions = [p for p, r in v if r >= recall_level]\n",
    "    \n",
    "    # If there are any, update max_precision\n",
    "    if relevant_precisions:\n",
    "        max_precision = max(relevant_precisions)\n",
    "    \n",
    "    # Add the Riemann-sum thingy to the total area\n",
    "    total_area+=0.01*max_precision\n",
    "\n",
    "print(total_area)"
   ]
  },
  {
   "cell_type": "markdown",
   "metadata": {},
   "source": [
    "5.\n",
    "\n",
    "Suppose you are given a set of $N$ ground-truth bounding boxes stored in a $N\\times4$ NumPy array $B$ where $B[:,0]$ and $B[:,1]$ contain the $x$ and $y$ values of the centers and $B[:,2]$ and $B[:,3]$ contain the widths and heights of the ground truth bounding boxes. Sketch a procedure where you might use k-means clustering to group the bounding boxes to form the set of anchor boxes. Hint: not all values of the bounding boxes matter. Note that there is no \"right\" answer here. How might you take into consideration the wide range of sizes of the ground truth bounding boxes?"
   ]
  },
  {
   "cell_type": "code",
   "execution_count": null,
   "metadata": {},
   "outputs": [
    {
     "data": {
      "image/png": "[encoded data removed]",
      "text/plain": [
       "<Figure size 800x600 with 1 Axes>"
      ]
     },
     "metadata": {},
     "output_type": "display_data"
    },
    {
     "name": "stdout",
     "output_type": "stream",
     "text": [
      "Anchor Boxes:\n",
      " [[250. 350.]\n",
      " [ 90. 170.]\n",
      " [125. 260.]\n",
      " [305. 410.]\n",
      " [185. 295.]]\n",
      "Average IoU Score: 0.9072482022451271\n"
     ]
    }
   ],
   "source": [
    "\"\"\"\n",
    "Note that this part doesn't technically need a code section, this was just the easiest way to draw/visualize what this problem wants\n",
    "All of this code is unmodified from chatgpt.\n",
    "It also looks like all this problem wants is to cluster the bounding boxes by size? I thought it might want to cluster them by location as well...\n",
    "\"\"\"\n",
    "import numpy as np\n",
    "import matplotlib.pyplot as plt\n",
    "from sklearn.cluster import KMeans\n",
    "\n",
    "def iou(box, clusters):\n",
    "    \"\"\" Compute IoU between a box and each cluster center. \"\"\"\n",
    "    x = np.minimum(box[0], clusters[:, 0])\n",
    "    y = np.minimum(box[1], clusters[:, 1])\n",
    "    intersection = x * y\n",
    "    box_area = box[0] * box[1]\n",
    "    cluster_area = clusters[:, 0] * clusters[:, 1]\n",
    "    iou_vals = intersection / (box_area + cluster_area - intersection)\n",
    "    return iou_vals\n",
    "\n",
    "def avg_iou(boxes, clusters):\n",
    "    \"\"\" Compute average IoU for all boxes and clusters. \"\"\"\n",
    "    return np.mean([np.max(iou(box, clusters)) for box in boxes])\n",
    "\n",
    "def kmeans_iou(boxes, k, max_iter=300):\n",
    "    \"\"\" Perform K-Means clustering using IoU-based distance. \"\"\"\n",
    "    kmeans = KMeans(n_clusters=k, random_state=0, max_iter=max_iter, n_init=10)\n",
    "    kmeans.fit(boxes)\n",
    "    return kmeans.cluster_centers_, avg_iou(boxes, kmeans.cluster_centers_)\n",
    "\n",
    "# Example: Ground-truth bounding boxes (width, height)\n",
    "gt_boxes = np.array([\n",
    "    [100, 200], [120, 250], [300, 400], [80, 150], [200, 300], \n",
    "    [250, 350], [130, 270], [90, 160], [170, 290], [310, 420]\n",
    "])\n",
    "\n",
    "# Choose number of clusters (K)\n",
    "K = 5  \n",
    "\n",
    "# Run K-Means clustering\n",
    "anchor_boxes, avg_iou_score = kmeans_iou(gt_boxes, K)\n",
    "\n",
    "# Plot results\n",
    "plt.figure(figsize=(8, 6))\n",
    "plt.scatter(gt_boxes[:, 0], gt_boxes[:, 1], label=\"Ground Truth Boxes\", alpha=0.6)\n",
    "plt.scatter(anchor_boxes[:, 0], anchor_boxes[:, 1], marker='*', s=200, color='red', label=\"Anchor Boxes\")\n",
    "\n",
    "plt.xlabel(\"Width\")\n",
    "plt.ylabel(\"Height\")\n",
    "plt.title(f\"Bounding Box Clustering (K={K})\")\n",
    "plt.legend()\n",
    "plt.grid(True)\n",
    "plt.show()\n",
    "\n",
    "print(\"Anchor Boxes:\\n\", anchor_boxes)\n",
    "print(\"Average IoU Score:\", avg_iou_score)\n"
   ]
  },
  {
   "cell_type": "markdown",
   "metadata": {},
   "source": [
    "6. Non-maximum suppression of detection predictions can cause objects to be missed when they are quite close to (partially occluded by) more prominent (foreground) objects. One idea for tyring to handle this is change the NMS criteria to the following. Prediction $i$ is suppressed by $j$ if\n",
    "\n",
    "• $i$ and $j$ predict the same class, and\n",
    "\n",
    "• for activations $a_i$ and $a_j$ we have $a_i<p(\\textnormal{IOU}(i,j))a_j$\n",
    "\n",
    "Here, the function $p(\\cdot)$ maps the IOU to the fraction of $a_j$ that $a_i$ must be above in order to survive. For example if we have\n",
    "$$p(u)=\\begin{cases}\n",
    "1&\\textnormal{if } u>0.5\\\\\n",
    "0&\\textnormal{otherwise,}\n",
    "\\end{cases}$$\n",
    "then we have the original NMS criteria. More sophisticated, we might have\n",
    "$$p(u)=\\begin{cases}\n",
    "1&\\textnormal{if }u>u_1\\\\\n",
    "(u-u_0)/(u_1-u_0)&\\textnormal{if }u_0\\le u\\le u_1\\\\\n",
    "0&\\textnormal{otherwise,}\n",
    "\\end{cases}$$\n",
    "for tunable paramters $u_0$ and $u_1$, where $0\\le u_0\\le u_1\\le1$ Again, note that if $u_0=u_1=0.5$ we are back to the original NMS criteria.\n",
    "\n",
    "(a) Write code to implement the function $p$ and then the overall NMS procedure.\n",
    "\n",
    "(b) How well might this algorithm work? What are the risks?"
   ]
  },
  {
   "cell_type": "code",
   "execution_count": null,
   "metadata": {},
   "outputs": [],
   "source": [
    "def p(u,u0,u1):\n",
    "    if u>u1: return 1\n",
    "    if u>=u0 and u<=u1: return (u-u0)/(u1-u0)\n",
    "    return 0\n",
    "\n",
    "# Not sure how much of non-maximum suppression we are supposed to write\n",
    "# Are we supposed to write the IOU function from scratch?\n",
    "\n",
    "# This is just pseudocode, and isn't really meant to run\n",
    "for i in predictions:\n",
    "    for j in predictions:\n",
    "        if i.class==j.class and a[i]<p(IOU(i,j),u0,u1)*a[j]:\n",
    "            suppress(i)"
   ]
  },
  {
   "cell_type": "markdown",
   "metadata": {},
   "source": [
    "This algorithm treats any IOU > $u_1$ the exact same as normal non-maximum suppression. However, it provides only partial suppression to IOU values between $u_0$ and $u_1$. As a result, strong activations can potentially overcome overlaps.\n",
    "\n",
    "This may increase the number of overlapping objects to be identified. However, it also risks identifying false positives. Ie: it may identify multiple bounding boxes around the same object if their activations are strong enough."
   ]
  },
  {
   "cell_type": "markdown",
   "metadata": {},
   "source": [
    "7.\n",
    "\n",
    "The output of the 2nd stage of RCNN before post-processing is a series of region predictions, each having the bounding boxes (mapped back to the image coordinate system), class label, and class activations. Given a list of ground truth class labels and their associated bounding boxes (in image coordinates) and given an IOU threshold, write code to select the top 100 \"hard negatives\" that don't overlap a ground truth detection (of the same class) more than the threshold. Should this threshold be greater or less than 0.5? Why?"
   ]
  },
  {
   "cell_type": "markdown",
   "metadata": {},
   "source": [
    "The threshold should be less than 0.5. A threshold of more than 0.5 can result in hard negatives that have IOU values of 0.4 with a ground truth, which is still pretty close. We want our \"hard negatives\" to be \"hard,\" which means we want them all to have as little overlap with ground truths as possible."
   ]
  },
  {
   "cell_type": "code",
   "execution_count": null,
   "metadata": {},
   "outputs": [],
   "source": [
    "bounding_boxes = [] #supposed to contain a bunch of bounding boxes, but I'm too lazy\n",
    "ground_truths = [] #supposed to contain a bunch of ground truths, but I'm too lazy\n",
    "hard_negatives = []\n",
    "for bounding_box in bounding_boxes:\n",
    "    meets_threshold=False\n",
    "    for ground_truth in ground_truth:\n",
    "        if bounding_box.class != ground_truth.class: continue\n",
    "        if IOU(bounding_box,ground_truth)>threshold: meets_threshold=True\n",
    "\n",
    "    if meets_threshold:\n",
    "        hard_negatives.append(bounding_box)\n",
    "    if len(hard_negatives>=100):\n",
    "        break"
   ]
  }
 ],
 "metadata": {
  "kernelspec": {
   "display_name": "Python 3",
   "language": "python",
   "name": "python3"
  },
  "language_info": {
   "codemirror_mode": {
    "name": "ipython",
    "version": 3
   },
   "file_extension": ".py",
   "mimetype": "text/x-python",
   "name": "python",
   "nbconvert_exporter": "python",
   "pygments_lexer": "ipython3",
   "version": "3.12.8"
  }
 },
 "nbformat": 4,
 "nbformat_minor": 2
}
