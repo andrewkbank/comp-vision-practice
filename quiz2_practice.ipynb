{
 "cells": [
  {
   "cell_type": "markdown",
   "metadata": {},
   "source": [
    "1.\n",
    "Write a k-nearest neighbor classifier for the general case of k > 1. Given are\n",
    "• M data vectors each of length N, stored in an M × N NumPy array called P.\n",
    "• The class labels for the vectors stored in a length M array of integers called L. In\n",
    "particular, L[i] == c means the i-th vector in P is from class c.\n",
    "• A length N query vector called q.\n",
    "Solve this in following steps: (a) find the distance from q to each data vector, (b) find the\n",
    "class labels of the k smallest distances, (c) form a histogram of these labels and find the most\n",
    "common class label. To keep things simple, if there is a tie for the most commonly occuring\n",
    "class, you may output any of these classes."
   ]
  },
  {
   "cell_type": "code",
   "execution_count": 9,
   "metadata": {},
   "outputs": [
    {
     "name": "stdout",
     "output_type": "stream",
     "text": [
      "P (data vectors):\n",
      " [[ 1.630609    0.60693363  0.76620909]\n",
      " [-0.54660526  0.41788525  1.48199203]\n",
      " [ 1.83973413 -1.41238897  0.11336548]\n",
      " [ 2.22696176 -0.42111146  1.40373537]\n",
      " [ 0.04803324 -2.7754424   1.04670023]\n",
      " [ 0.67424733 -2.358624   -0.07812678]\n",
      " [ 0.86981859 -0.27990221 -1.09080391]\n",
      " [-1.39513654  0.30338924 -1.49532762]\n",
      " [ 0.57037696 -0.67332181 -0.20094934]\n",
      " [ 0.62410526 -0.42519526 -2.53480481]]\n",
      "L (class labels):\n",
      " [0 1 0 0 0 2 0 2 1 0]\n",
      "q (query vector):\n",
      " [-0.31368675  1.47436607  1.28900465]\n",
      "Most common class label: 0\n"
     ]
    }
   ],
   "source": [
    "import numpy as np\n",
    "\n",
    "def generate_knn_data(M=100, N=5, num_classes=3, seed=None):\n",
    "    if seed is not None:\n",
    "        np.random.seed(seed)\n",
    "    \n",
    "    # Generate M data vectors, each of length N\n",
    "    P = np.random.randn(M, N)  # Random normal distribution\n",
    "    \n",
    "    # Generate M class labels from num_classes\n",
    "    L = np.random.randint(0, num_classes, size=M)\n",
    "    \n",
    "    # Generate a query vector of length N\n",
    "    q = np.random.randn(N)\n",
    "    \n",
    "    return P, L, q\n",
    "\n",
    "# Generate the inputs to the problem\n",
    "P, L, q = generate_knn_data(M=10,N=3)\n",
    "print(\"P (data vectors):\\n\", P)\n",
    "print(\"L (class labels):\\n\", L)\n",
    "print(\"q (query vector):\\n\", q)\n",
    "\n",
    "k=5\n",
    "\n",
    "# Calculate the distance of every point in P to q\n",
    "distances = np.sqrt(np.sum((P - q) ** 2, axis=1))\n",
    "\n",
    "# Find the indices of the k-nearest points\n",
    "k_smallest_indices = np.argpartition(distances, k)[:k]\n",
    "\n",
    "# Convert indices to class-labels\n",
    "k_nearest_labels = L[k_smallest_indices]\n",
    "\n",
    "# Count occurrences of each class label (histogram)\n",
    "label_counts = np.bincount(k_nearest_labels)\n",
    "\n",
    "# Find the most common class label\n",
    "most_common_label = np.argmax(label_counts)\n",
    "\n",
    "print(\"Most common class label:\", most_common_label)\n",
    "\n"
   ]
  },
  {
   "cell_type": "markdown",
   "metadata": {},
   "source": [
    "2.\n",
    "The symmetric matching test is an alternative to the ratio test, where two keypoints, i from\n",
    "image I0 and j from I1, are said to match each other if\n",
    "• keypoint i’s descriptor is closer to the descriptor for j than any other descriptor found\n",
    "in image I0, AND\n",
    "• keypoint j’s descriptor is closer to the descriptor for i than any other descriptor found\n",
    "in image I1.\n",
    "Suppose the M0 descriptors for image I0 are stored in an M0 × k NumPy array D0 and the\n",
    "M1 descriptors for image I1 are stored in an M1 × k NumPy array D1. Write Python code to\n",
    "find all symmetric matches, outputting the idex pairs (i, j), one per line. Do this with as few\n",
    "for loops as possible."
   ]
  }
 ],
 "metadata": {
  "kernelspec": {
   "display_name": "Python 3",
   "language": "python",
   "name": "python3"
  },
  "language_info": {
   "codemirror_mode": {
    "name": "ipython",
    "version": 3
   },
   "file_extension": ".py",
   "mimetype": "text/x-python",
   "name": "python",
   "nbconvert_exporter": "python",
   "pygments_lexer": "ipython3",
   "version": "3.12.8"
  }
 },
 "nbformat": 4,
 "nbformat_minor": 2
}
